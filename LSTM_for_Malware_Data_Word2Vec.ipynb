{
 "cells": [
  {
   "cell_type": "code",
   "execution_count": 1,
   "id": "b1067884",
   "metadata": {},
   "outputs": [
    {
     "name": "stderr",
     "output_type": "stream",
     "text": [
      "[nltk_data] Downloading package punkt to /Users/rmritik/nltk_data...\n",
      "[nltk_data]   Package punkt is already up-to-date!\n"
     ]
    }
   ],
   "source": [
    "import numpy as np\n",
    "import pandas as pd\n",
    "\n",
    "import nltk\n",
    "from nltk.tokenize import sent_tokenize, word_tokenize\n",
    "nltk.download('punkt')\n",
    "\n",
    "import pickle"
   ]
  },
  {
   "cell_type": "code",
   "execution_count": 2,
   "id": "699ad681",
   "metadata": {},
   "outputs": [
    {
     "name": "stderr",
     "output_type": "stream",
     "text": [
      "2023-02-24 03:11:18.980126: I tensorflow/core/platform/cpu_feature_guard.cc:193] This TensorFlow binary is optimized with oneAPI Deep Neural Network Library (oneDNN) to use the following CPU instructions in performance-critical operations:  SSE4.1 SSE4.2\n",
      "To enable them in other operations, rebuild TensorFlow with the appropriate compiler flags.\n"
     ]
    }
   ],
   "source": [
    "from tensorflow.keras import preprocessing as kprocessing\n",
    "from tensorflow.keras import models, layers, optimizers"
   ]
  },
  {
   "cell_type": "code",
   "execution_count": 3,
   "id": "83e62b4a",
   "metadata": {},
   "outputs": [],
   "source": [
    "with open('word2vec_embeddings.pkl', 'rb') as fp:\n",
    "    embed = pickle.load(fp)"
   ]
  },
  {
   "cell_type": "code",
   "execution_count": 4,
   "id": "58c314c8",
   "metadata": {},
   "outputs": [],
   "source": [
    "embed['<pad>'] = np.zeros(shape = (100))"
   ]
  },
  {
   "cell_type": "code",
   "execution_count": 5,
   "id": "8dd62c6b",
   "metadata": {},
   "outputs": [],
   "source": [
    "data = pd.read_csv('malware_data.csv', index_col = 0)"
   ]
  },
  {
   "cell_type": "code",
   "execution_count": 6,
   "id": "bf89709a",
   "metadata": {},
   "outputs": [],
   "source": [
    "counts_family = data.groupby('Malware Family')['Malware Family'].transform(len)\n",
    "mask = (counts_family > 1)"
   ]
  },
  {
   "cell_type": "code",
   "execution_count": 7,
   "id": "efa92e51",
   "metadata": {},
   "outputs": [],
   "source": [
    "data = data[mask]"
   ]
  },
  {
   "cell_type": "code",
   "execution_count": 8,
   "id": "5dcadba9",
   "metadata": {},
   "outputs": [],
   "source": [
    "nr_categories = len(data[\"Malware Family\"].unique())"
   ]
  },
  {
   "cell_type": "code",
   "execution_count": 9,
   "id": "1f62ac29",
   "metadata": {},
   "outputs": [
    {
     "data": {
      "text/html": [
       "<div>\n",
       "<style scoped>\n",
       "    .dataframe tbody tr th:only-of-type {\n",
       "        vertical-align: middle;\n",
       "    }\n",
       "\n",
       "    .dataframe tbody tr th {\n",
       "        vertical-align: top;\n",
       "    }\n",
       "\n",
       "    .dataframe thead th {\n",
       "        text-align: right;\n",
       "    }\n",
       "</style>\n",
       "<table border=\"1\" class=\"dataframe\">\n",
       "  <thead>\n",
       "    <tr style=\"text-align: right;\">\n",
       "      <th></th>\n",
       "      <th>OpCode Sequence</th>\n",
       "      <th>Malware Family</th>\n",
       "    </tr>\n",
       "  </thead>\n",
       "  <tbody>\n",
       "    <tr>\n",
       "      <th>1</th>\n",
       "      <td>push add mov push call test jz movzx mov add p...</td>\n",
       "      <td>ufasoftbitcoin</td>\n",
       "    </tr>\n",
       "    <tr>\n",
       "      <th>2</th>\n",
       "      <td>push push push call add push call mov push pus...</td>\n",
       "      <td>ufasoftbitcoin</td>\n",
       "    </tr>\n",
       "    <tr>\n",
       "      <th>3</th>\n",
       "      <td>push add mov push call test jz movzx mov add p...</td>\n",
       "      <td>ufasoftbitcoin</td>\n",
       "    </tr>\n",
       "    <tr>\n",
       "      <th>4</th>\n",
       "      <td>mov push mov push push mov and test push push ...</td>\n",
       "      <td>CLUSTERgdata</td>\n",
       "    </tr>\n",
       "    <tr>\n",
       "      <th>5</th>\n",
       "      <td>push push call mov cmp jbe xor mov push cmp jn...</td>\n",
       "      <td>CLUSTERgdata</td>\n",
       "    </tr>\n",
       "  </tbody>\n",
       "</table>\n",
       "</div>"
      ],
      "text/plain": [
       "                                     OpCode Sequence  Malware Family\n",
       "1  push add mov push call test jz movzx mov add p...  ufasoftbitcoin\n",
       "2  push push push call add push call mov push pus...  ufasoftbitcoin\n",
       "3  push add mov push call test jz movzx mov add p...  ufasoftbitcoin\n",
       "4  mov push mov push push mov and test push push ...    CLUSTERgdata\n",
       "5  push push call mov cmp jbe xor mov push cmp jn...    CLUSTERgdata"
      ]
     },
     "execution_count": 9,
     "metadata": {},
     "output_type": "execute_result"
    }
   ],
   "source": [
    "data.head()"
   ]
  },
  {
   "cell_type": "code",
   "execution_count": 10,
   "id": "4b35cdc2",
   "metadata": {},
   "outputs": [],
   "source": [
    "from sklearn.preprocessing import LabelBinarizer\n",
    "X = data['OpCode Sequence']\n",
    "y_class = data['Malware Family']\n",
    "\n",
    "lab = LabelBinarizer()\n",
    "lab.fit(y_class)\n",
    "y = lab.transform(y_class)"
   ]
  },
  {
   "cell_type": "code",
   "execution_count": 11,
   "id": "368ac527",
   "metadata": {},
   "outputs": [],
   "source": [
    "from sklearn.model_selection import train_test_split\n",
    "X_train, X_test, y_train, y_test = train_test_split(X, y, test_size=0.2, random_state=42, stratify=data['Malware Family'])"
   ]
  },
  {
   "cell_type": "code",
   "execution_count": 12,
   "id": "d8d4ed57",
   "metadata": {},
   "outputs": [],
   "source": [
    "corpus = X_train\n",
    "tokenizer = kprocessing.text.Tokenizer(split=' ', oov_token=\"<pad>\")\n",
    "tokenizer.fit_on_texts(corpus)\n",
    "voc = tokenizer.word_index\n",
    "reverse_voc = dict([(value, key) for (key, value) in voc.items()])"
   ]
  },
  {
   "cell_type": "code",
   "execution_count": 13,
   "id": "eac61eea",
   "metadata": {},
   "outputs": [],
   "source": [
    "max_len = 5000\n",
    "\n",
    "sequences = tokenizer.texts_to_sequences(X_train)\n",
    "X_train_seq = kprocessing.sequence.pad_sequences(sequences, maxlen=max_len)\n",
    "\n",
    "X_test_seq = kprocessing.sequence.pad_sequences(tokenizer.texts_to_sequences(X_test), maxlen=max_len)"
   ]
  },
  {
   "cell_type": "code",
   "execution_count": 14,
   "id": "e16f29dd",
   "metadata": {},
   "outputs": [],
   "source": [
    "max_words = len(reverse_voc)\n",
    "emb_matrix = np.zeros((max_words + 1, 100))\n",
    "for i in range(max_words):\n",
    "    if reverse_voc[i+1] in embed:\n",
    "        emb_matrix[i+1, :] = embed[reverse_voc[i+1]]\n",
    "\n",
    "emb_size = emb_matrix.shape[1]"
   ]
  },
  {
   "cell_type": "code",
   "execution_count": 15,
   "id": "97949e44",
   "metadata": {},
   "outputs": [
    {
     "name": "stderr",
     "output_type": "stream",
     "text": [
      "2023-02-24 03:11:38.538640: I tensorflow/core/platform/cpu_feature_guard.cc:193] This TensorFlow binary is optimized with oneAPI Deep Neural Network Library (oneDNN) to use the following CPU instructions in performance-critical operations:  SSE4.1 SSE4.2\n",
      "To enable them in other operations, rebuild TensorFlow with the appropriate compiler flags.\n"
     ]
    }
   ],
   "source": [
    "input_ = layers.Input(shape = X_train_seq[0,:].shape,name='input')\n",
    "# Embedding layer (voc size plus un (\"UNK\", word with index 0)), using the pre-trained emb_matrix obtained from Word2Vec\n",
    "x = layers.Embedding(max_words+1,emb_size,weights=[emb_matrix],trainable=False, name='embedding')(input_)\n",
    "x = layers.Bidirectional(layers.LSTM(15,dropout=0.2),name='bidirectional-lstm')(x) # LSTM layer\n",
    "x = layers.Dropout(0.2, name='dropout')(x)\n",
    "x = layers.Dense(64, activation='relu', name='dense')(x)\n",
    "output = layers.Dense(nr_categories,activation='softmax', name='classification')(x)\n",
    "\n",
    "model = models.Model(input_, output)\n",
    "\n",
    "opt = optimizers.Adam(learning_rate=0.01, beta_1=0.9)\n",
    "model.compile(optimizer=opt,loss='categorical_crossentropy', metrics=['accuracy'])"
   ]
  },
  {
   "cell_type": "code",
   "execution_count": 16,
   "id": "46a73cc4",
   "metadata": {},
   "outputs": [
    {
     "name": "stdout",
     "output_type": "stream",
     "text": [
      "Model: \"model\"\n",
      "_________________________________________________________________\n",
      " Layer (type)                Output Shape              Param #   \n",
      "=================================================================\n",
      " input (InputLayer)          [(None, 5000)]            0         \n",
      "                                                                 \n",
      " embedding (Embedding)       (None, 5000, 100)         42600     \n",
      "                                                                 \n",
      " bidirectional-lstm (Bidirec  (None, 30)               13920     \n",
      " tional)                                                         \n",
      "                                                                 \n",
      " dropout (Dropout)           (None, 30)                0         \n",
      "                                                                 \n",
      " dense (Dense)               (None, 64)                1984      \n",
      "                                                                 \n",
      " classification (Dense)      (None, 28)                1820      \n",
      "                                                                 \n",
      "=================================================================\n",
      "Total params: 60,324\n",
      "Trainable params: 17,724\n",
      "Non-trainable params: 42,600\n",
      "_________________________________________________________________\n"
     ]
    }
   ],
   "source": [
    "model.summary()"
   ]
  },
  {
   "cell_type": "code",
   "execution_count": 17,
   "id": "8ead0b36",
   "metadata": {},
   "outputs": [
    {
     "name": "stdout",
     "output_type": "stream",
     "text": [
      "Epoch 1/10\n",
      "104/104 [==============================] - 140s 1s/step - loss: 0.5870 - accuracy: 0.8666 - val_loss: 0.2915 - val_accuracy: 0.9292\n",
      "Epoch 2/10\n",
      "104/104 [==============================] - 135s 1s/step - loss: 0.2976 - accuracy: 0.9324 - val_loss: 0.2309 - val_accuracy: 0.9425\n",
      "Epoch 3/10\n",
      "104/104 [==============================] - 134s 1s/step - loss: 0.2647 - accuracy: 0.9384 - val_loss: 0.2035 - val_accuracy: 0.9449\n",
      "Epoch 4/10\n",
      "104/104 [==============================] - 146s 1s/step - loss: 0.2337 - accuracy: 0.9442 - val_loss: 0.2037 - val_accuracy: 0.9443\n",
      "Epoch 5/10\n",
      "104/104 [==============================] - 134s 1s/step - loss: 0.2255 - accuracy: 0.9449 - val_loss: 0.2349 - val_accuracy: 0.9401\n",
      "Epoch 6/10\n",
      "104/104 [==============================] - 135s 1s/step - loss: 0.2196 - accuracy: 0.9472 - val_loss: 0.1988 - val_accuracy: 0.9468\n",
      "Epoch 7/10\n",
      "104/104 [==============================] - 137s 1s/step - loss: 0.2034 - accuracy: 0.9489 - val_loss: 0.1943 - val_accuracy: 0.9474\n",
      "Epoch 8/10\n",
      "104/104 [==============================] - 133s 1s/step - loss: 0.1982 - accuracy: 0.9504 - val_loss: 0.2085 - val_accuracy: 0.9443\n",
      "Epoch 9/10\n",
      "104/104 [==============================] - 133s 1s/step - loss: 0.1837 - accuracy: 0.9520 - val_loss: 0.1953 - val_accuracy: 0.9486\n",
      "Epoch 10/10\n",
      "104/104 [==============================] - 133s 1s/step - loss: 0.1881 - accuracy: 0.9511 - val_loss: 0.1935 - val_accuracy: 0.9492\n"
     ]
    }
   ],
   "source": [
    "history = model.fit(X_train_seq, y_train, batch_size=64, shuffle=True, epochs=10, validation_data=(X_test_seq, y_test))"
   ]
  },
  {
   "cell_type": "code",
   "execution_count": 19,
   "id": "7c641bb1",
   "metadata": {},
   "outputs": [
    {
     "data": {
      "text/plain": [
       "<matplotlib.legend.Legend at 0x7fd12c60f7f0>"
      ]
     },
     "execution_count": 19,
     "metadata": {},
     "output_type": "execute_result"
    },
    {
     "data": {
      "image/png": "[encoded data removed]",
      "text/plain": [
       "<Figure size 1500x500 with 2 Axes>"
      ]
     },
     "metadata": {},
     "output_type": "display_data"
    }
   ],
   "source": [
    "import matplotlib.pyplot as plt\n",
    "\n",
    "fig, ax = plt.subplots(nrows=1, ncols=2, figsize=(15, 5))\n",
    "ax[0].set(title='Loss')\n",
    "ax[0].plot(history.history['loss'], label='Training')\n",
    "ax[0].plot(history.history['val_loss'], label='Validation')\n",
    "ax[0].legend(loc=\"upper right\")\n",
    "\n",
    "ax[1].set(title='Accuracy')\n",
    "ax[1].plot(history.history['accuracy'], label='Training')\n",
    "ax[1].plot(history.history['val_accuracy'], label='Validation')\n",
    "ax[1].legend(loc=\"lower right\")"
   ]
  },
  {
   "cell_type": "code",
   "execution_count": null,
   "id": "59526faf",
   "metadata": {},
   "outputs": [],
   "source": []
  }
 ],
 "metadata": {
  "kernelspec": {
   "display_name": "Python 3 (ipykernel)",
   "language": "python",
   "name": "python3"
  },
  "language_info": {
   "codemirror_mode": {
    "name": "ipython",
    "version": 3
   },
   "file_extension": ".py",
   "mimetype": "text/x-python",
   "name": "python",
   "nbconvert_exporter": "python",
   "pygments_lexer": "ipython3",
   "version": "3.10.9"
  }
 },
 "nbformat": 4,
 "nbformat_minor": 5
}
