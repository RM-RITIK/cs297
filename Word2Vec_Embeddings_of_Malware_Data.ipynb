{
  "nbformat": 4,
  "nbformat_minor": 0,
  "metadata": {
    "colab": {
      "provenance": []
    },
    "kernelspec": {
      "name": "python3",
      "display_name": "Python 3"
    },
    "language_info": {
      "name": "python"
    },
    "accelerator": "GPU",
    "gpuClass": "standard"
  },
  "cells": [
    {
      "cell_type": "code",
      "execution_count": 4,
      "metadata": {
        "id": "YOSoWKz2KAkU",
        "colab": {
          "base_uri": "https://localhost:8080/"
        },
        "outputId": "657a7085-4def-4443-b481-b238fec130cb"
      },
      "outputs": [
        {
          "output_type": "stream",
          "name": "stderr",
          "text": [
            "[nltk_data] Downloading package punkt to /root/nltk_data...\n",
            "[nltk_data]   Unzipping tokenizers/punkt.zip.\n"
          ]
        }
      ],
      "source": [
        "import numpy as np\n",
        "import pandas as pd\n",
        "\n",
        "import nltk\n",
        "from nltk.tokenize import sent_tokenize, word_tokenize\n",
        "nltk.download('punkt')\n",
        "\n",
        "import gensim\n",
        "from gensim.models import Word2Vec"
      ]
    },
    {
      "cell_type": "code",
      "source": [
        "data = pd.read_csv(\"/content/drive/MyDrive/malware_data.csv\", index_col = 0)"
      ],
      "metadata": {
        "id": "MHVcgQkVL8T-"
      },
      "execution_count": 5,
      "outputs": []
    },
    {
      "cell_type": "code",
      "source": [
        "tokenized_data = []\n",
        "for index, row in data.iterrows():\n",
        "  opcodes = row['OpCode Sequence']\n",
        "  tokenized_data.append(word_tokenize(opcodes))"
      ],
      "metadata": {
        "id": "uHf2dhfKP-m1"
      },
      "execution_count": 6,
      "outputs": []
    },
    {
      "cell_type": "code",
      "source": [
        "model = gensim.models.Word2Vec(tokenized_data, min_count = 1, window = 5)"
      ],
      "metadata": {
        "id": "_EnyCIXYtRJH"
      },
      "execution_count": 12,
      "outputs": []
    },
    {
      "cell_type": "code",
      "source": [
        "learned_words = list(model.wv.vocab)\n",
        "print(learned_words)"
      ],
      "metadata": {
        "colab": {
          "base_uri": "https://localhost:8080/"
        },
        "id": "msXvABqXu3Ek",
        "outputId": "cdcc875f-88f4-4f55-b3f5-99651fb1ff02"
      },
      "execution_count": 14,
      "outputs": [
        {
          "output_type": "stream",
          "name": "stdout",
          "text": [
            "['push', 'mov', 'cmp', 'jz', 'sti', 'outsd', 'fild', 'sbb', 'call', 'rcl', 'retn', 'fisttp', 'sub', 'pop', 'pusha', 'lea', 'or', 'jmp', 'inc', 'add', 'jnz', 'adc', 'jb', 'jnb', 'xor', 'shl', 'jbe', 'dec', 'ja', 'shr', 'rol', 'xchg', 'loop', 'repne', 'popa', 'test', 'movzx', 'jge', 'and', 'jg', 'jle', 'jns', 'sar', 'jl', 'movsd', 'rep', 'js', 'std', 'cld', 'fnstcw', 'wait', 'fldcw', 'fistp', 'setz', 'neg', 'repe', 'fld', 'fmulp', 'fdivp', 'fstp', 'fldz', 'fninit', 'stosd', 'movsx', 'setnz', 'cdq', 'idiv', 'leave', 'lock', 'not', 'mul', 'div', 'imul', 'retf', 'fld1', 'fadd', 'faddp', 'fprem', 'fdiv', 'fcom', 'fstsw', 'sahf', 'ffree', 'fcomp', 'fnstsw', 'stosb', 'lodsb', 'jecxz', 'stosw', 'fabs', 'frndint', 'fidiv', 'fbstp', 'fstcw', 'fclex', 'fchs', 'fimul', 'fiadd', 'fmul', 'bt', 'fsub', 'bts', 'setb', 'setnbe', 'cmc', 'setnle', 'jno', 'pushf', 'popf', 'cpuid', 'int', 'nop', 'setle', 'cvttsd2si', 'fst', 'fsubp', 'les', 'in', 'out', 'insb', 'insd', 'jo', 'outsb', 'arpl', 'bound', 'outs', 'outsw', 'aad', 'cwde', 'lds', 'jp', 'das', 'aam', 'xlat', 'aas', 'loopne', 'daa', 'into', 'scasd', 'stc', 'movsb', 'scasb', 'icebp', 'lodsd', 'clc', 'cmpsd', 'aaa', 'jnp', 'movd', 'cli', 'iret', 'fisub', 'fsubr', 'lahf', 'hlt', 'fcmovu', 'cmpsb', 'fdivr', 'loope', 'popaw', 'ins', 'setnl', 'setalc', 'ror', 'enter', 'cmps', 'rcr', 'ficomp', 'fnsave', 'fxch7', 'movs', 'fxch4', 'verr', 'fbld', 'frstor', 'ficom', 'pmaxub', 'sal', 'lods', 'btr', 'fisubr', 'fcmovb', 'fnstenv', 'fist', 'str', 'fstp1', 'fucomi', 'fsubrp', 'fcomip', 'movmskps', 'fidivr', 'ffreep', 'fcompp', 'fstp9', 'fxch', 'fprem1', 'fucom', 'fcomi', 'psubd', 'fstp8', 'fcomp5', 'fcmovnb', 'fcmovne', 'fcos', 'pminub', 'iretw', 'fcmovnu', 'fptan', 'fcmovbe', 'fdivrp', 'psrad', 'movhps', 'setl', 'sysenter', 'fldenv', 'svts', 'pcmpeqb', 'pand', 'subps', 'fnclex', 'rsldt', 'shld', 'shrd', 'movsw', 'movdqa', 'pxor', 'fcmovnbe', 'insw', 'cmovnz', 'setnb', 'fucompp', 'fldl2t', 'fldln2', 'pmovmskb', 'xorps', 'pushfw', 'bswap', 'fscale', 'fucomp', 'loopwne', 'setno', 'xadd', 'psrlw', 'lsl', 'fnop', 'paddsb', 'paddsw', 'cmovb', 'cmovs', 'comiss', 'divps', 'pcmpgtw', 'maxps', 'fsincos', 'f2xm1', 'bsr', 'psubsw', 'scas', 'fucomip', 'cmpps', 'movaps', 'pmullw', 'fyl2xp1', 'fincstp', 'cvtpi2ps', 'rsqrtps', 'fndisi', 'stos', 'pavgw', 'rsdc', 'rdpmc', 'fcmove', 'VxDCall', 'psadbw', 'sysexit', 'lodsw', 'movups', 'svldt', 'cmovg', 'fsetpm', 'cmpxchg', 'fldl2e', 'cmovp', 'paddusb', 'movlps', 'movntps', 'sysret', 'lar', 'paddw', 'paddb', 'fsin', 'cmovle', 'cbw', 'pinsrw', 'andps', 'pcmpgtb', 'movhlps', 'invd', 'fxsave', 'psrld', 'fstenv', 'wrmsr', 'mulps', 'cvttps2pi', 'enterw', 'rdtsc', 'cvtps2pd', 'clflush', 'minps', 'cvtdq2ps', 'cmova', 'setns', 'setbe', 'paddusw', 'pcmpgtd', 'fldlg2', 'cmovz', 'andnps', 'cmovns', 'pavgb', 'bsf', 'pmulhw', 'cmpsw', 'VxDJmp', 'cmovnp', 'psrlq', 'fldpi', 'cmovno', 'rsts', 'cmpxchg8b', 'paddq', 'pmaddwd', 'maskmovq', 'punpckhdq', 'unpcklps', 'fxtract', 'pmulhuw', 'pshufw', 'pswapd', 'fyl2x', 'pslld', 'psllw', 'lss', 'fpatan', 'punpckhbw', 'pfrsqrt', 'packuswb', 'psubq', 'setnp', 'ftst', 'popfw', 'scasw', 'punpckhwd', 'psllq', 'prefetch', 'psubb', 'fneni', 'sets', 'pminsw', 'lfs', 'unpckhps', 'packssdw', 'rsm', 'rdmsr', 'fxam', 'lgs', 'pause', 'pushaw', 'addps', 'sldt', 'btc', 'cmovo', 'cmovge', 'seto', 'pandn', 'rcpps', 'fdecstp', 'emms', 'pcmpeqw', 'femms', 'movnti', 'prefetchnta', 'syscall', 'psraw', 'orps', 'psubusb', 'paddd', 'loopwe', 'fsqrt', 'cvtps2pi', 'punpcklbw', 'cmovbe', 'cwd', 'cmovl', 'pfrcpit1', 'por', 'movq', 'cmovnb', 'clts', 'sqrtps', 'psubusw', 'shufps', 'psubw', 'loopw', 'lgdt', 'leavew', 'punpckldq', 'svdc', 'pfcmpgt', 'pmaxsw', 'sidt', 'wbinvd', 'pextrw', 'setp', 'ucomiss', 'addpd', 'ldmxcsr', 'fsave', 'pcmpeqd', 'lldt', 'mfence', 'psubsb', 'dt', 'movapd', 'prefetchw', 'packsswb', 'smsw', 'stmxcsr', 'jcxz', 'punpcklwd', 'pmuludq']\n"
          ]
        }
      ]
    },
    {
      "cell_type": "code",
      "source": [
        "embeddings = dict()\n",
        "for word in learned_words:\n",
        "  embeddings[word] = model.wv[word]"
      ],
      "metadata": {
        "id": "9reAIFqVvZFZ"
      },
      "execution_count": 15,
      "outputs": []
    },
    {
      "cell_type": "code",
      "source": [
        "import pickle\n",
        "\n",
        "with open('word2vec_embeddings.pkl', 'wb') as fp:\n",
        "  pickle.dump(embeddings, fp)     "
      ],
      "metadata": {
        "id": "uU2r4-1kx4qC"
      },
      "execution_count": 16,
      "outputs": []
    },
    {
      "cell_type": "code",
      "source": [],
      "metadata": {
        "id": "F9k3Woz7yWp0"
      },
      "execution_count": null,
      "outputs": []
    }
  ]
}