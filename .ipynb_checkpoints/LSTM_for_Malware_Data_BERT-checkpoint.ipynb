{
 "cells": [
  {
   "cell_type": "code",
   "execution_count": 1,
   "id": "4ebfb8a1",
   "metadata": {},
   "outputs": [
    {
     "name": "stderr",
     "output_type": "stream",
     "text": [
      "[nltk_data] Downloading package punkt to /Users/rmritik/nltk_data...\n",
      "[nltk_data]   Package punkt is already up-to-date!\n"
     ]
    }
   ],
   "source": [
    "import numpy as np\n",
    "import pandas as pd\n",
    "\n",
    "import nltk\n",
    "from nltk.tokenize import sent_tokenize, word_tokenize\n",
    "nltk.download('punkt')\n",
    "\n",
    "import pickle"
   ]
  },
  {
   "cell_type": "code",
   "execution_count": 2,
   "id": "01899495",
   "metadata": {},
   "outputs": [
    {
     "name": "stderr",
     "output_type": "stream",
     "text": [
      "2023-02-24 16:00:40.906909: I tensorflow/core/platform/cpu_feature_guard.cc:193] This TensorFlow binary is optimized with oneAPI Deep Neural Network Library (oneDNN) to use the following CPU instructions in performance-critical operations:  SSE4.1 SSE4.2\n",
      "To enable them in other operations, rebuild TensorFlow with the appropriate compiler flags.\n"
     ]
    }
   ],
   "source": [
    "from tensorflow.keras import preprocessing as kprocessing\n",
    "from tensorflow.keras import models, layers, optimizers"
   ]
  },
  {
   "cell_type": "code",
   "execution_count": 3,
   "id": "eca7a474",
   "metadata": {},
   "outputs": [],
   "source": [
    "with open('bert_embeddings.pkl', 'rb') as fp:\n",
    "    embed = pickle.load(fp)"
   ]
  },
  {
   "cell_type": "code",
   "execution_count": 4,
   "id": "25378c16",
   "metadata": {},
   "outputs": [],
   "source": [
    "data = pd.read_csv('malware_data.csv', index_col = 0)"
   ]
  },
  {
   "cell_type": "code",
   "execution_count": 5,
   "id": "d4f38412",
   "metadata": {},
   "outputs": [],
   "source": [
    "counts_family = data.groupby('Malware Family')['Malware Family'].transform(len)\n",
    "mask = (counts_family > 1)"
   ]
  },
  {
   "cell_type": "code",
   "execution_count": 6,
   "id": "3aa4466b",
   "metadata": {},
   "outputs": [],
   "source": [
    "data = data[mask]"
   ]
  },
  {
   "cell_type": "code",
   "execution_count": 7,
   "id": "f3143804",
   "metadata": {},
   "outputs": [],
   "source": [
    "nr_categories = len(data[\"Malware Family\"].unique())"
   ]
  },
  {
   "cell_type": "code",
   "execution_count": 8,
   "id": "d64df238",
   "metadata": {},
   "outputs": [],
   "source": [
    "from sklearn.preprocessing import LabelBinarizer\n",
    "X = data['OpCode Sequence']\n",
    "y_class = data['Malware Family']\n",
    "\n",
    "lab = LabelBinarizer()\n",
    "lab.fit(y_class)\n",
    "y = lab.transform(y_class)"
   ]
  },
  {
   "cell_type": "code",
   "execution_count": 9,
   "id": "f35e6eaf",
   "metadata": {},
   "outputs": [],
   "source": [
    "from sklearn.model_selection import train_test_split\n",
    "X_train, X_test, y_train, y_test = train_test_split(X, y, test_size=0.2, random_state=42, stratify=data['Malware Family'])"
   ]
  },
  {
   "cell_type": "code",
   "execution_count": 10,
   "id": "836b18b9",
   "metadata": {},
   "outputs": [],
   "source": [
    "voc = dict()\n",
    "index = 1\n",
    "for word in embed:\n",
    "    voc[word] = index\n",
    "    index = index + 1"
   ]
  },
  {
   "cell_type": "code",
   "execution_count": 12,
   "id": "204e7836",
   "metadata": {},
   "outputs": [],
   "source": [
    "reverse_voc = dict([(value, key) for (key, value) in voc.items()])"
   ]
  },
  {
   "cell_type": "code",
   "execution_count": 13,
   "id": "4db5eb8c",
   "metadata": {},
   "outputs": [
    {
     "data": {
      "application/vnd.jupyter.widget-view+json": {
       "model_id": "e75a2f073f584cafbb6f1a7d00f98ebd",
       "version_major": 2,
       "version_minor": 0
      },
      "text/plain": [
       "Downloading (…)solve/main/vocab.txt:   0%|          | 0.00/232k [00:00<?, ?B/s]"
      ]
     },
     "metadata": {},
     "output_type": "display_data"
    },
    {
     "data": {
      "application/vnd.jupyter.widget-view+json": {
       "model_id": "be210fdb37d34d54bb503bcaa46f8b72",
       "version_major": 2,
       "version_minor": 0
      },
      "text/plain": [
       "Downloading (…)okenizer_config.json:   0%|          | 0.00/28.0 [00:00<?, ?B/s]"
      ]
     },
     "metadata": {},
     "output_type": "display_data"
    },
    {
     "data": {
      "application/vnd.jupyter.widget-view+json": {
       "model_id": "0f7caabbfe944d57ac11aae9fcb1b2a6",
       "version_major": 2,
       "version_minor": 0
      },
      "text/plain": [
       "Downloading (…)lve/main/config.json:   0%|          | 0.00/570 [00:00<?, ?B/s]"
      ]
     },
     "metadata": {},
     "output_type": "display_data"
    }
   ],
   "source": [
    "from transformers import BertTokenizer, BertModel\n",
    "\n",
    "tokenizer = BertTokenizer.from_pretrained('bert-base-uncased')"
   ]
  },
  {
   "cell_type": "code",
   "execution_count": 16,
   "id": "8c19a97a",
   "metadata": {},
   "outputs": [
    {
     "name": "stderr",
     "output_type": "stream",
     "text": [
      "/var/folders/43/55xrz6yn351c1v3zrty2c19m0000gn/T/ipykernel_14522/1137261655.py:14: VisibleDeprecationWarning: Creating an ndarray from ragged nested sequences (which is a list-or-tuple of lists-or-tuples-or ndarrays with different lengths or shapes) is deprecated. If you meant to do this, you must specify 'dtype=object' when creating the ndarray.\n",
      "  X_train_seq = np.array(X_train_seq)\n"
     ]
    }
   ],
   "source": [
    "X_train_seq = []\n",
    "for sent in X_train:\n",
    "    row = []\n",
    "    marked_sent = \"[CLS] \" + sent + \" [SEP]\"\n",
    "    tokenized_sent = tokenizer.tokenize(marked_sent)\n",
    "    for token in tokenized_sent:\n",
    "        if token in voc:\n",
    "            row.append(voc[token])\n",
    "        else:\n",
    "            row.append(0)\n",
    "    row = np.array(row)\n",
    "    X_train_seq.append(row)\n",
    "\n",
    "X_train_seq = np.array(X_train_seq)"
   ]
  },
  {
   "cell_type": "code",
   "execution_count": 19,
   "id": "67d0802d",
   "metadata": {},
   "outputs": [
    {
     "name": "stderr",
     "output_type": "stream",
     "text": [
      "/var/folders/43/55xrz6yn351c1v3zrty2c19m0000gn/T/ipykernel_14522/3884249052.py:14: VisibleDeprecationWarning: Creating an ndarray from ragged nested sequences (which is a list-or-tuple of lists-or-tuples-or ndarrays with different lengths or shapes) is deprecated. If you meant to do this, you must specify 'dtype=object' when creating the ndarray.\n",
      "  X_test_seq = np.array(X_test_seq)\n"
     ]
    }
   ],
   "source": [
    "X_test_seq = []\n",
    "for sent in X_test:\n",
    "    row = []\n",
    "    marked_sent = \"[CLS] \" + sent + \" [SEP]\"\n",
    "    tokenized_sent = tokenizer.tokenize(marked_sent)\n",
    "    for token in tokenized_sent:\n",
    "        if token in voc:\n",
    "            row.append(voc[token])\n",
    "        else:\n",
    "            row.append(0)\n",
    "    row = np.array(row)\n",
    "    X_test_seq.append(row)\n",
    "\n",
    "X_test_seq = np.array(X_test_seq)"
   ]
  },
  {
   "cell_type": "code",
   "execution_count": 20,
   "id": "49c11b27",
   "metadata": {},
   "outputs": [],
   "source": [
    "max_len = 5000\n",
    "\n",
    "X_train_seq = kprocessing.sequence.pad_sequences(X_train_seq, maxlen=max_len)\n",
    "\n",
    "X_test_seq = kprocessing.sequence.pad_sequences(X_test_seq, maxlen=max_len)"
   ]
  },
  {
   "cell_type": "code",
   "execution_count": 21,
   "id": "9df309c9",
   "metadata": {},
   "outputs": [
    {
     "data": {
      "text/plain": [
       "(6610, 5000)"
      ]
     },
     "execution_count": 21,
     "metadata": {},
     "output_type": "execute_result"
    }
   ],
   "source": [
    "X_train_seq.shape"
   ]
  },
  {
   "cell_type": "code",
   "execution_count": 28,
   "id": "9e07a8fb",
   "metadata": {},
   "outputs": [],
   "source": [
    "max_words = len(reverse_voc)\n",
    "emb_matrix = np.zeros((max_words + 1, 768))\n",
    "for i in range(max_words):\n",
    "    if reverse_voc[i+1] in embed:\n",
    "        emb_matrix[i+1, :] = embed[reverse_voc[i+1]]\n",
    "\n",
    "emb_size = emb_matrix.shape[1]"
   ]
  },
  {
   "cell_type": "code",
   "execution_count": 29,
   "id": "018fff67",
   "metadata": {},
   "outputs": [
    {
     "data": {
      "text/plain": [
       "array([[ 0.        ,  0.        ,  0.        , ...,  0.        ,\n",
       "         0.        ,  0.        ],\n",
       "       [-1.15311825, -1.26154423,  0.36354655, ...,  0.27120295,\n",
       "        -1.62261522,  0.66343653],\n",
       "       [-1.81655717,  0.76884419,  2.60423923, ..., -0.41154504,\n",
       "        -1.04752946,  2.58976007],\n",
       "       ...,\n",
       "       [-2.40886688,  1.4607203 ,  4.29616261, ..., -1.74678349,\n",
       "         2.93846011,  5.93549967],\n",
       "       [ 3.20535755,  3.2273612 ,  7.63589907, ..., -0.18000922,\n",
       "        -3.4374373 ,  2.92637157],\n",
       "       [-0.14406785, -3.96900225,  7.44196081, ..., -2.18475056,\n",
       "         1.22847772, -2.93866467]])"
      ]
     },
     "execution_count": 29,
     "metadata": {},
     "output_type": "execute_result"
    }
   ],
   "source": [
    "emb_matrix"
   ]
  },
  {
   "cell_type": "code",
   "execution_count": 30,
   "id": "2963bfe3",
   "metadata": {},
   "outputs": [
    {
     "name": "stderr",
     "output_type": "stream",
     "text": [
      "2023-02-24 16:50:49.271978: I tensorflow/core/platform/cpu_feature_guard.cc:193] This TensorFlow binary is optimized with oneAPI Deep Neural Network Library (oneDNN) to use the following CPU instructions in performance-critical operations:  SSE4.1 SSE4.2\n",
      "To enable them in other operations, rebuild TensorFlow with the appropriate compiler flags.\n"
     ]
    }
   ],
   "source": [
    "input_ = layers.Input(shape = X_train_seq[0,:].shape,name='input')\n",
    "# Embedding layer (voc size plus un (\"UNK\", word with index 0)), using the pre-trained emb_matrix obtained from Word2Vec\n",
    "x = layers.Embedding(max_words+1,emb_size,weights=[emb_matrix],trainable=False, name='embedding')(input_)\n",
    "x = layers.Bidirectional(layers.LSTM(15,dropout=0.2),name='bidirectional-lstm')(x) # LSTM layer\n",
    "x = layers.Dropout(0.2, name='dropout')(x)\n",
    "x = layers.Dense(64, activation='relu', name='dense')(x)\n",
    "output = layers.Dense(nr_categories,activation='softmax', name='classification')(x)\n",
    "\n",
    "model = models.Model(input_, output)\n",
    "\n",
    "opt = optimizers.Adam(learning_rate=0.01, beta_1=0.9)\n",
    "model.compile(optimizer=opt,loss='categorical_crossentropy', metrics=['accuracy'])"
   ]
  },
  {
   "cell_type": "code",
   "execution_count": 31,
   "id": "5add95a7",
   "metadata": {},
   "outputs": [
    {
     "name": "stdout",
     "output_type": "stream",
     "text": [
      "Model: \"model\"\n",
      "_________________________________________________________________\n",
      " Layer (type)                Output Shape              Param #   \n",
      "=================================================================\n",
      " input (InputLayer)          [(None, 5000)]            0         \n",
      "                                                                 \n",
      " embedding (Embedding)       (None, 5000, 768)         121344    \n",
      "                                                                 \n",
      " bidirectional-lstm (Bidirec  (None, 30)               94080     \n",
      " tional)                                                         \n",
      "                                                                 \n",
      " dropout (Dropout)           (None, 30)                0         \n",
      "                                                                 \n",
      " dense (Dense)               (None, 64)                1984      \n",
      "                                                                 \n",
      " classification (Dense)      (None, 28)                1820      \n",
      "                                                                 \n",
      "=================================================================\n",
      "Total params: 219,228\n",
      "Trainable params: 97,884\n",
      "Non-trainable params: 121,344\n",
      "_________________________________________________________________\n"
     ]
    }
   ],
   "source": [
    "model.summary()"
   ]
  },
  {
   "cell_type": "code",
   "execution_count": 32,
   "id": "c209d58f",
   "metadata": {},
   "outputs": [
    {
     "name": "stdout",
     "output_type": "stream",
     "text": [
      "Epoch 1/10\n",
      "104/104 [==============================] - 450s 4s/step - loss: 0.8670 - accuracy: 0.7440 - val_loss: 0.6300 - val_accuracy: 0.8512\n",
      "Epoch 2/10\n",
      "104/104 [==============================] - 471s 5s/step - loss: 0.7105 - accuracy: 0.7958 - val_loss: 0.6375 - val_accuracy: 0.8294\n",
      "Epoch 3/10\n",
      "104/104 [==============================] - 531s 5s/step - loss: 0.7126 - accuracy: 0.7844 - val_loss: 0.6101 - val_accuracy: 0.8778\n",
      "Epoch 4/10\n",
      "104/104 [==============================] - 450s 4s/step - loss: 0.6967 - accuracy: 0.8123 - val_loss: 0.5663 - val_accuracy: 0.8784\n",
      "Epoch 5/10\n",
      "104/104 [==============================] - 447s 4s/step - loss: 0.6922 - accuracy: 0.8197 - val_loss: 0.6025 - val_accuracy: 0.8772\n",
      "Epoch 6/10\n",
      "104/104 [==============================] - 458s 4s/step - loss: 0.6840 - accuracy: 0.8289 - val_loss: 0.6337 - val_accuracy: 0.8796\n",
      "Epoch 7/10\n",
      "104/104 [==============================] - 11017s 107s/step - loss: 0.6716 - accuracy: 0.8348 - val_loss: 0.5835 - val_accuracy: 0.8772\n",
      "Epoch 8/10\n",
      "104/104 [==============================] - 454s 4s/step - loss: 0.6552 - accuracy: 0.8418 - val_loss: 0.5983 - val_accuracy: 0.8766\n",
      "Epoch 9/10\n",
      "104/104 [==============================] - 485s 5s/step - loss: 0.6648 - accuracy: 0.8381 - val_loss: 0.5630 - val_accuracy: 0.8832\n",
      "Epoch 10/10\n",
      "104/104 [==============================] - 461s 4s/step - loss: 0.6545 - accuracy: 0.8337 - val_loss: 0.5691 - val_accuracy: 0.8820\n"
     ]
    }
   ],
   "source": [
    "history = model.fit(X_train_seq, y_train, batch_size=64, shuffle=True, epochs=10, validation_data=(X_test_seq, y_test))"
   ]
  },
  {
   "cell_type": "code",
   "execution_count": 33,
   "id": "29e9cffd",
   "metadata": {},
   "outputs": [
    {
     "data": {
      "text/plain": [
       "<matplotlib.legend.Legend at 0x7fe458611f00>"
      ]
     },
     "execution_count": 33,
     "metadata": {},
     "output_type": "execute_result"
    },
    {
     "data": {
      "image/png": "[encoded data removed]",
      "text/plain": [
       "<Figure size 1500x500 with 2 Axes>"
      ]
     },
     "metadata": {},
     "output_type": "display_data"
    }
   ],
   "source": [
    "import matplotlib.pyplot as plt\n",
    "\n",
    "fig, ax = plt.subplots(nrows=1, ncols=2, figsize=(15, 5))\n",
    "ax[0].set(title='Loss')\n",
    "ax[0].plot(history.history['loss'], label='Training')\n",
    "ax[0].plot(history.history['val_loss'], label='Validation')\n",
    "ax[0].legend(loc=\"upper right\")\n",
    "\n",
    "ax[1].set(title='Accuracy')\n",
    "ax[1].plot(history.history['accuracy'], label='Training')\n",
    "ax[1].plot(history.history['val_accuracy'], label='Validation')\n",
    "ax[1].legend(loc=\"lower right\")"
   ]
  },
  {
   "cell_type": "code",
   "execution_count": 36,
   "id": "ecb147df",
   "metadata": {},
   "outputs": [
    {
     "name": "stderr",
     "output_type": "stream",
     "text": [
      "WARNING:absl:Found untraced functions such as lstm_cell_1_layer_call_fn, lstm_cell_1_layer_call_and_return_conditional_losses, lstm_cell_2_layer_call_fn, lstm_cell_2_layer_call_and_return_conditional_losses while saving (showing 4 of 4). These functions will not be directly callable after loading.\n"
     ]
    },
    {
     "name": "stdout",
     "output_type": "stream",
     "text": [
      "INFO:tensorflow:Assets written to: ram://668458b4-6db4-4169-856e-8c546881e0a6/assets\n"
     ]
    },
    {
     "name": "stderr",
     "output_type": "stream",
     "text": [
      "INFO:tensorflow:Assets written to: ram://668458b4-6db4-4169-856e-8c546881e0a6/assets\n"
     ]
    }
   ],
   "source": [
    "pickle.dump(model, open('BERT_with_TensorflowLSTM.sav', 'wb'))"
   ]
  }
 ],
 "metadata": {
  "kernelspec": {
   "display_name": "Python 3 (ipykernel)",
   "language": "python",
   "name": "python3"
  },
  "language_info": {
   "codemirror_mode": {
    "name": "ipython",
    "version": 3
   },
   "file_extension": ".py",
   "mimetype": "text/x-python",
   "name": "python",
   "nbconvert_exporter": "python",
   "pygments_lexer": "ipython3",
   "version": "3.10.9"
  }
 },
 "nbformat": 4,
 "nbformat_minor": 5
}
