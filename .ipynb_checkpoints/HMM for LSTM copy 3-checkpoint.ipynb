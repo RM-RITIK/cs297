{
 "cells": [
  {
   "cell_type": "code",
   "execution_count": 1,
   "id": "bc7a8b57",
   "metadata": {},
   "outputs": [],
   "source": [
    "import numpy as np\n",
    "import pandas as pd\n",
    "import math\n",
    "\n",
    "class HMMForLSTM:\n",
    "    def __init__(self, obs_seq: str, word_to_idx: dict, vocab_size: int, num_hidden_states: int, A, B, pi):\n",
    "        self.obs = []\n",
    "        for word in obs_seq.split(' '):\n",
    "            self.obs.append(word_to_idx[word])\n",
    "        self.T = len(self.obs)\n",
    "        self.N = num_hidden_states\n",
    "        self.M = vocab_size\n",
    "        self.alpha = np.zeros((self.T, self.N))\n",
    "        self.beta = np.zeros((self.T, self.N))\n",
    "        self.gammas = np.zeros((self.T, self.N))\n",
    "        self.digammas = np.zeros((self.T, self.N, self.N))\n",
    "        self.A = A\n",
    "        self.B = B\n",
    "        self.pi = pi\n",
    "        self.c = np.zeros((self.T))\n",
    "    \n",
    "    def forward_algorithm(self):\n",
    "        for i in range(self.N):\n",
    "            self.alpha[0][i] = self.pi[i]*self.B[i][self.obs[0]]\n",
    "            self.c[0] = self.c[0] + self.alpha[0][i]\n",
    "        \n",
    "        self.c[0] = (1/self.c[0]*1.0)\n",
    "        \n",
    "        for i in range(self.N):\n",
    "            self.alpha[0][i] = self.c[0]*self.alpha[0][i]\n",
    "        \n",
    "        for t in range(1, self.T):\n",
    "            for i in range(self.N):\n",
    "                for j in range(self.N):\n",
    "                    self.alpha[t][i] += self.alpha[t-1][j]*self.A[j][i]\n",
    "                self.alpha[t][i] = self.alpha[t][i]*self.B[i][self.obs[t]]\n",
    "                self.c[t] += self.alpha[t][i]\n",
    "            \n",
    "            self.c[t] = (1/self.c[t]*1.0)\n",
    "            \n",
    "            for i in range(self.N):\n",
    "                self.alpha[t][i] = self.c[t]*self.alpha[t][i]\n",
    "        \n",
    "        return self.c\n",
    "    \n",
    "    def backward_algorithm(self):\n",
    "        for i in range(self.N):\n",
    "            self.beta[self.T - 1][i] = self.c[self.T-1]\n",
    "        \n",
    "        for t in reversed(range(self.T - 1)):\n",
    "            for i in range(self.N):\n",
    "                for j in range(self.N):\n",
    "                    self.beta[t][i] = self.beta[t][i] + self.A[i][j]*self.B[j][self.obs[t+1]]*self.beta[t+1][j]\n",
    "                self.beta[t][i] = self.c[t]*self.beta[t][i]\n",
    "            \n",
    "    \n",
    "    def compute_gammas_and_digammas(self):\n",
    "        for t in range(self.T - 1):\n",
    "            denom = 0.0\n",
    "            for i in range(self.N):\n",
    "                for j in range(self.N):\n",
    "                    denom = denom + self.alpha[t][i]*self.A[i][j]*self.B[j][self.obs[t+1]]*self.beta[t+1][j]\n",
    "            for i in range(self.N):\n",
    "                for j in range(self.N):\n",
    "                    self.digammas[t][i][j] = (self.alpha[t][i]*self.A[i][j]*self.B[j][self.obs[t+1]]*self.beta[t+1][j])/denom\n",
    "                    self.gammas[t][i] = self.gammas[t][i] + self.digammas[t][i][j]\n",
    "\n",
    "        \n",
    "        denom = 0.0\n",
    "        for i in range(self.N):\n",
    "            denom += self.alpha[self.T - 1][i]\n",
    "        \n",
    "        for i in range(self.N):\n",
    "            self.gammas[self.T-1][i] = self.alpha[self.T - 1][i]/denom\n",
    "\n",
    "    \n",
    "    def reestimate_model(self):\n",
    "        for i in range(self.N):\n",
    "            self.pi[i] = self.gammas[0][i]\n",
    "        \n",
    "        for i in range(self.N):\n",
    "            for j in range(self.N):\n",
    "                numer = 0.0\n",
    "                denom = 0.0\n",
    "                for t in range(self.T - 1):\n",
    "                    numer = numer + self.digammas[t][i][j]\n",
    "                    denom = denom + self.gammas[t][i]\n",
    "                \n",
    "                A[i][j] = numer/denom\n",
    "        \n",
    "        for i in range(self.N):\n",
    "            for j in range(self.M):\n",
    "                numer = 0.0\n",
    "                denom = 0.0\n",
    "                for t in range(self.T):\n",
    "                    if self.obs[t] == j:\n",
    "                        numer += self.gammas[t][i]\n",
    "                    denom += self.gammas[t][i]\n",
    "                \n",
    "                B[i][j] = numer/denom\n",
    "    \n",
    "    def compute_loss(self):\n",
    "        logProb = 0.0\n",
    "        for i in range(self.T):\n",
    "            logProb += math.log(self.c[i])\n",
    "        logProb = -1*logProb\n",
    "        return logProb\n",
    "    \n",
    "    def train_iter(self, iter_num):\n",
    "        print('{} iteration is running'.format(iter_num + 1))\n",
    "        \n",
    "        self.forward_algorithm()\n",
    "        \n",
    "        self.backward_algorithm()\n",
    "        \n",
    "        self.compute_gammas_and_digammas()\n",
    "        \n",
    "        self.reestimate_model()\n",
    "        \n",
    "        logProb = self.compute_loss()\n",
    "        \n",
    "        return logProb, self.A, self.B, self.pi\n",
    "        \n",
    "                    \n",
    "    \n",
    "        \n",
    "        "
   ]
  },
  {
   "cell_type": "code",
   "execution_count": 2,
   "id": "f9f14da4",
   "metadata": {},
   "outputs": [],
   "source": [
    "data = pd.read_csv('malware_data.csv', index_col = 0)"
   ]
  },
  {
   "cell_type": "code",
   "execution_count": 3,
   "id": "5b9f3a50",
   "metadata": {},
   "outputs": [
    {
     "data": {
      "text/html": [
       "<div>\n",
       "<style scoped>\n",
       "    .dataframe tbody tr th:only-of-type {\n",
       "        vertical-align: middle;\n",
       "    }\n",
       "\n",
       "    .dataframe tbody tr th {\n",
       "        vertical-align: top;\n",
       "    }\n",
       "\n",
       "    .dataframe thead th {\n",
       "        text-align: right;\n",
       "    }\n",
       "</style>\n",
       "<table border=\"1\" class=\"dataframe\">\n",
       "  <thead>\n",
       "    <tr style=\"text-align: right;\">\n",
       "      <th></th>\n",
       "      <th>OpCode Sequence</th>\n",
       "      <th>Malware Family</th>\n",
       "    </tr>\n",
       "  </thead>\n",
       "  <tbody>\n",
       "    <tr>\n",
       "      <th>0</th>\n",
       "      <td>push mov push mov mov mov mov cmp jz push sti ...</td>\n",
       "      <td>CLUSTERclarkclark</td>\n",
       "    </tr>\n",
       "    <tr>\n",
       "      <th>1</th>\n",
       "      <td>push add mov push call test jz movzx mov add p...</td>\n",
       "      <td>ufasoftbitcoin</td>\n",
       "    </tr>\n",
       "    <tr>\n",
       "      <th>2</th>\n",
       "      <td>push push push call add push call mov push pus...</td>\n",
       "      <td>ufasoftbitcoin</td>\n",
       "    </tr>\n",
       "    <tr>\n",
       "      <th>3</th>\n",
       "      <td>push add mov push call test jz movzx mov add p...</td>\n",
       "      <td>ufasoftbitcoin</td>\n",
       "    </tr>\n",
       "    <tr>\n",
       "      <th>4</th>\n",
       "      <td>mov push mov push push mov and test push push ...</td>\n",
       "      <td>CLUSTERgdata</td>\n",
       "    </tr>\n",
       "  </tbody>\n",
       "</table>\n",
       "</div>"
      ],
      "text/plain": [
       "                                     OpCode Sequence     Malware Family\n",
       "0  push mov push mov mov mov mov cmp jz push sti ...  CLUSTERclarkclark\n",
       "1  push add mov push call test jz movzx mov add p...     ufasoftbitcoin\n",
       "2  push push push call add push call mov push pus...     ufasoftbitcoin\n",
       "3  push add mov push call test jz movzx mov add p...     ufasoftbitcoin\n",
       "4  mov push mov push push mov and test push push ...       CLUSTERgdata"
      ]
     },
     "execution_count": 3,
     "metadata": {},
     "output_type": "execute_result"
    }
   ],
   "source": [
    "data.head()"
   ]
  },
  {
   "cell_type": "code",
   "execution_count": 4,
   "id": "237bed31",
   "metadata": {},
   "outputs": [],
   "source": [
    "import pickle\n",
    "with open('word2vec_embeddings.pkl', 'rb') as fp:\n",
    "    embed = pickle.load(fp)"
   ]
  },
  {
   "cell_type": "code",
   "execution_count": 5,
   "id": "4c949ce0",
   "metadata": {},
   "outputs": [],
   "source": [
    "word_to_idx = dict()\n",
    "index = 0\n",
    "for word in embed:\n",
    "    word_to_idx[word] = index\n",
    "    index = index + 1"
   ]
  },
  {
   "cell_type": "code",
   "execution_count": 6,
   "id": "f0884118",
   "metadata": {},
   "outputs": [],
   "source": [
    "idx_to_word = dict([(value, key) for (key, value) in word_to_idx.items()])"
   ]
  },
  {
   "cell_type": "code",
   "execution_count": 7,
   "id": "469c6020",
   "metadata": {},
   "outputs": [],
   "source": [
    "import random\n",
    "def make_matrix_non_uniform(mat):\n",
    "    for i in range(len(mat)):\n",
    "        n = len(mat[i])\n",
    "        \n",
    "        for j in range(0, n-1, 2):\n",
    "            temp = random.uniform(0, 0.01)\n",
    "            temp = temp*mat[i][j]\n",
    "            mat[i][j] = mat[i][j] - temp\n",
    "            mat[i][j+1] = mat[i][j+1] + temp\n",
    "            \n",
    "        np.random.shuffle(mat[i])\n",
    "        row_sum = np.sum(mat[i])\n",
    "        \n",
    "        if row_sum != 1:\n",
    "            mat[i][n-1] = mat[i][n-1] + 1 - row_sum\n",
    "        \n",
    "\n",
    "def make_vector_non_uniform(vec):\n",
    "    n = len(vec)\n",
    "    for i in range(0, n-1, 2):\n",
    "        temp = random.uniform(0, 0.01)\n",
    "        temp = temp*vec[i]\n",
    "        vec[i] = vec[i] - temp\n",
    "        vec[i+1] = vec[i+1] + temp\n",
    "        \n",
    "    np.random.shuffle(vec)\n",
    "    vec_sum = np.sum(vec)\n",
    "    \n",
    "    if vec_sum != 1:\n",
    "        vec[n-1] = vec[n-1] + 1 - vec_sum"
   ]
  },
  {
   "cell_type": "code",
   "execution_count": 8,
   "id": "0f7d214e",
   "metadata": {},
   "outputs": [],
   "source": [
    "num_hidden_states = 20\n",
    "M = len(word_to_idx)\n",
    "\n",
    "A = np.full((num_hidden_states, num_hidden_states), 1.0/num_hidden_states)\n",
    "B = np.full((num_hidden_states, M), 1.0/M)\n",
    "pi = np.full((num_hidden_states), 1.0/num_hidden_states)"
   ]
  },
  {
   "cell_type": "code",
   "execution_count": 9,
   "id": "1ddf9bf1",
   "metadata": {},
   "outputs": [],
   "source": [
    "make_matrix_non_uniform(A)\n",
    "make_matrix_non_uniform(B)\n",
    "make_vector_non_uniform(pi)"
   ]
  },
  {
   "cell_type": "code",
   "execution_count": 10,
   "id": "bcb348dd",
   "metadata": {},
   "outputs": [],
   "source": [
    "counts_family = data.groupby('Malware Family')['Malware Family'].transform(len)\n",
    "mask = (counts_family > 50)"
   ]
  },
  {
   "cell_type": "code",
   "execution_count": 11,
   "id": "d755256c",
   "metadata": {},
   "outputs": [],
   "source": [
    "data = data[mask]"
   ]
  },
  {
   "cell_type": "code",
   "execution_count": 12,
   "id": "63f72438",
   "metadata": {},
   "outputs": [
    {
     "name": "stdout",
     "output_type": "stream",
     "text": [
      "7\n"
     ]
    }
   ],
   "source": [
    "nr_categories = len(data[\"Malware Family\"].unique())\n",
    "print(nr_categories)"
   ]
  },
  {
   "cell_type": "code",
   "execution_count": 13,
   "id": "c776d7a4",
   "metadata": {},
   "outputs": [
    {
     "data": {
      "text/plain": [
       "array(['zeroaccess', 'winwebsec', 'securityshield', 'zbot', 'cridex',\n",
       "       'smarthdd', 'harebot'], dtype=object)"
      ]
     },
     "execution_count": 13,
     "metadata": {},
     "output_type": "execute_result"
    }
   ],
   "source": [
    "data[\"Malware Family\"].unique()"
   ]
  },
  {
   "cell_type": "code",
   "execution_count": 15,
   "id": "df6bec73",
   "metadata": {},
   "outputs": [],
   "source": [
    "data1 = data.loc[data['Malware Family'] == 'zbot']"
   ]
  },
  {
   "cell_type": "code",
   "execution_count": 16,
   "id": "ef031c70",
   "metadata": {},
   "outputs": [
    {
     "name": "stdout",
     "output_type": "stream",
     "text": [
      "current observation number is 5827\n",
      "1 iteration is running\n",
      "loss is -5477.931\n",
      "2 iteration is running\n",
      "loss is -2762.164\n",
      "3 iteration is running\n",
      "loss is -2762.164\n",
      "4 iteration is running\n",
      "loss is -2762.164\n",
      "5 iteration is running\n",
      "loss is -2762.164\n",
      "6 iteration is running\n",
      "loss is -2762.163\n",
      "7 iteration is running\n",
      "loss is -2762.163\n",
      "8 iteration is running\n",
      "loss is -2762.163\n",
      "9 iteration is running\n",
      "loss is -2762.162\n",
      "10 iteration is running\n",
      "loss is -2762.160\n",
      "11 iteration is running\n",
      "loss is -2762.158\n",
      "12 iteration is running\n",
      "loss is -2762.154\n",
      "13 iteration is running\n",
      "loss is -2762.147\n",
      "14 iteration is running\n",
      "loss is -2762.135\n",
      "15 iteration is running\n",
      "loss is -2762.113\n",
      "16 iteration is running\n"
     ]
    },
    {
     "ename": "KeyboardInterrupt",
     "evalue": "",
     "output_type": "error",
     "traceback": [
      "\u001b[0;31m---------------------------------------------------------------------------\u001b[0m",
      "\u001b[0;31mKeyboardInterrupt\u001b[0m                         Traceback (most recent call last)",
      "Input \u001b[0;32mIn [16]\u001b[0m, in \u001b[0;36m<cell line: 1>\u001b[0;34m()\u001b[0m\n\u001b[1;32m      9\u001b[0m \u001b[38;5;28;01mwhile\u001b[39;00m iters \u001b[38;5;241m<\u001b[39m min_iters \u001b[38;5;129;01mor\u001b[39;00m delta \u001b[38;5;241m>\u001b[39m epsilon:\n\u001b[1;32m     10\u001b[0m     hmm \u001b[38;5;241m=\u001b[39m HMMForLSTM(obs_seq, word_to_idx, M, num_hidden_states, A, B, pi)\n\u001b[0;32m---> 11\u001b[0m     logProb, A_new, B_new, pi_new \u001b[38;5;241m=\u001b[39m \u001b[43mhmm\u001b[49m\u001b[38;5;241;43m.\u001b[39;49m\u001b[43mtrain_iter\u001b[49m\u001b[43m(\u001b[49m\u001b[43miters\u001b[49m\u001b[43m)\u001b[49m\n\u001b[1;32m     12\u001b[0m     \u001b[38;5;28mprint\u001b[39m(\u001b[38;5;124m'\u001b[39m\u001b[38;5;124mloss is \u001b[39m\u001b[38;5;132;01m{:.3f}\u001b[39;00m\u001b[38;5;124m'\u001b[39m\u001b[38;5;241m.\u001b[39mformat(logProb))\n\u001b[1;32m     13\u001b[0m     A \u001b[38;5;241m=\u001b[39m A_new\n",
      "Input \u001b[0;32mIn [1]\u001b[0m, in \u001b[0;36mHMMForLSTM.train_iter\u001b[0;34m(self, iter_num)\u001b[0m\n\u001b[1;32m    114\u001b[0m \u001b[38;5;28mself\u001b[39m\u001b[38;5;241m.\u001b[39mbackward_algorithm()\n\u001b[1;32m    116\u001b[0m \u001b[38;5;28mself\u001b[39m\u001b[38;5;241m.\u001b[39mcompute_gammas_and_digammas()\n\u001b[0;32m--> 118\u001b[0m \u001b[38;5;28;43mself\u001b[39;49m\u001b[38;5;241;43m.\u001b[39;49m\u001b[43mreestimate_model\u001b[49m\u001b[43m(\u001b[49m\u001b[43m)\u001b[49m\n\u001b[1;32m    120\u001b[0m logProb \u001b[38;5;241m=\u001b[39m \u001b[38;5;28mself\u001b[39m\u001b[38;5;241m.\u001b[39mcompute_loss()\n\u001b[1;32m    122\u001b[0m \u001b[38;5;28;01mreturn\u001b[39;00m logProb, \u001b[38;5;28mself\u001b[39m\u001b[38;5;241m.\u001b[39mA, \u001b[38;5;28mself\u001b[39m\u001b[38;5;241m.\u001b[39mB, \u001b[38;5;28mself\u001b[39m\u001b[38;5;241m.\u001b[39mpi\n",
      "Input \u001b[0;32mIn [1]\u001b[0m, in \u001b[0;36mHMMForLSTM.reestimate_model\u001b[0;34m(self)\u001b[0m\n\u001b[1;32m     96\u001b[0m     \u001b[38;5;28;01mif\u001b[39;00m \u001b[38;5;28mself\u001b[39m\u001b[38;5;241m.\u001b[39mobs[t] \u001b[38;5;241m==\u001b[39m j:\n\u001b[1;32m     97\u001b[0m         numer \u001b[38;5;241m+\u001b[39m\u001b[38;5;241m=\u001b[39m \u001b[38;5;28mself\u001b[39m\u001b[38;5;241m.\u001b[39mgammas[t][i]\n\u001b[0;32m---> 98\u001b[0m     denom \u001b[38;5;241m+\u001b[39m\u001b[38;5;241m=\u001b[39m \u001b[38;5;28;43mself\u001b[39;49m\u001b[38;5;241;43m.\u001b[39;49m\u001b[43mgammas\u001b[49m[t][i]\n\u001b[1;32m    100\u001b[0m B[i][j] \u001b[38;5;241m=\u001b[39m numer\u001b[38;5;241m/\u001b[39mdenom\n",
      "\u001b[0;31mKeyboardInterrupt\u001b[0m: "
     ]
    }
   ],
   "source": [
    "for index, row in data1.iterrows():\n",
    "    print('current observation number is {}'.format(index))\n",
    "    obs_seq = row['OpCode Sequence']\n",
    "    min_iters = 10\n",
    "    oldLogProb = float('-inf')\n",
    "    epsilon = 0.001\n",
    "    delta = 0.0\n",
    "    iters = 0\n",
    "    while iters < min_iters or delta > epsilon:\n",
    "        hmm = HMMForLSTM(obs_seq, word_to_idx, M, num_hidden_states, A, B, pi)\n",
    "        logProb, A_new, B_new, pi_new = hmm.train_iter(iters)\n",
    "        print('loss is {:.3f}'.format(logProb))\n",
    "        A = A_new\n",
    "        B = B_new\n",
    "        pi = pi_new\n",
    "        iters = iters + 1\n",
    "        delta = abs(logProb - oldLogProb)\n",
    "        oldLogProb = logProb"
   ]
  },
  {
   "cell_type": "code",
   "execution_count": null,
   "id": "3a953b3c",
   "metadata": {},
   "outputs": [],
   "source": []
  }
 ],
 "metadata": {
  "kernelspec": {
   "display_name": "Python 3 (ipykernel)",
   "language": "python",
   "name": "python3"
  },
  "language_info": {
   "codemirror_mode": {
    "name": "ipython",
    "version": 3
   },
   "file_extension": ".py",
   "mimetype": "text/x-python",
   "name": "python",
   "nbconvert_exporter": "python",
   "pygments_lexer": "ipython3",
   "version": "3.9.12"
  }
 },
 "nbformat": 4,
 "nbformat_minor": 5
}
